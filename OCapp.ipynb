{
  "cells": [
    {
      "cell_type": "markdown",
      "metadata": {
        "id": "view-in-github",
        "colab_type": "text"
      },
      "source": [
        "<a href=\"https://colab.research.google.com/github/drgarimajain/oc/blob/main/OCapp.ipynb\" target=\"_parent\"><img src=\"https://colab.research.google.com/assets/colab-badge.svg\" alt=\"Open In Colab\"/></a>"
      ]
    },
    {
      "cell_type": "code",
      "execution_count": 18,
      "metadata": {
        "id": "07bWh2EQJk9D"
      },
      "outputs": [],
      "source": [
        "import numpy as np\n",
        "import pandas as pd\n",
        "import matplotlib.pyplot as matlib\n",
        "import seaborn as sns\n",
        "import sklearn as skl"
      ]
    },
    {
      "cell_type": "code",
      "execution_count": 19,
      "metadata": {
        "colab": {
          "base_uri": "https://localhost:8080/"
        },
        "id": "wK-7gqcDNoWt",
        "outputId": "223fafff-cdd1-4a27-86a0-65d832de74a0"
      },
      "outputs": [
        {
          "output_type": "stream",
          "name": "stdout",
          "text": [
            "['patient_id', 'Age', 'Sex', 'ECOG PS', 'Smoking PY', 'Smoking Status', 'Ds Site', 'Subsite', 'T', 'N', 'M ', 'Stage', 'Path', 'HPV', 'Tx Modality', 'Chemo? ', 'Dose', 'Fx', 'Outcome', 'Length FU', 'Cause of Death', 'Local', 'Regional', 'Distant']\n",
            "     patient_id   Age     Sex ECOG PS  Smoking PY Smoking Status     Ds Site  \\\n",
            "0  RADCURE-0005  62.6  Female  ECOG 0        50.0      Ex-smoker  Oropharynx   \n",
            "1  RADCURE-0006  87.3    Male  ECOG 2        25.0      Ex-smoker      Larynx   \n",
            "2  RADCURE-0007  49.9    Male  ECOG 1        15.0      Ex-smoker  Oropharynx   \n",
            "3  RADCURE-0009  72.3    Male  ECOG 1        30.0      Ex-smoker     Unknown   \n",
            "4  RADCURE-0010  59.7  Female  ECOG 0         0.0     Non-smoker  Oropharynx   \n",
            "\n",
            "           Subsite    T    N  ... Tx Modality Chemo?   Dose  Fx Outcome  \\\n",
            "0        post wall  T4b  N2c  ...    RT alone    none  60.0  25    Dead   \n",
            "1          Glottis  T1b   N0  ...    RT alone    none  51.0  20    Dead   \n",
            "2           Tonsil   T3  N2b  ...    RT alone    none  64.0  40   Alive   \n",
            "3              NaN   T0  N2c  ...    RT alone    none  70.0  35   Alive   \n",
            "4  Tonsillar Fossa  T4b   N0  ...    RT alone    none  64.0  40   Alive   \n",
            "\n",
            "  Length FU  Cause of Death  Local Regional  Distant  \n",
            "0  1.317808     Other Cause     No       No       No  \n",
            "1  1.520548     Other Cause     No       No       No  \n",
            "2  2.126027             NaN     No       No       No  \n",
            "3  5.791781             NaN     No       No       No  \n",
            "4  9.512329             NaN     No       No       No  \n",
            "\n",
            "[5 rows x 24 columns]\n"
          ]
        }
      ],
      "source": [
        "oc = pd.read_excel('/content/drive/MyDrive/OC.xlsx')\n",
        "print (oc.columns.tolist())\n",
        "print (oc.head())"
      ]
    },
    {
      "cell_type": "code",
      "execution_count": 20,
      "metadata": {
        "colab": {
          "base_uri": "https://localhost:8080/",
          "height": 204
        },
        "id": "QgDTiknpRwNa",
        "outputId": "196b0edf-d075-4a1a-fe68-162ef968a18a"
      },
      "outputs": [
        {
          "output_type": "execute_result",
          "data": {
            "text/plain": [
              "<bound method DataFrame.drop_duplicates of         patient_id   Age     Sex ECOG PS  Smoking PY Smoking Status  \\\n",
              "0     RADCURE-0005  62.6  Female  ECOG 0        50.0      Ex-smoker   \n",
              "1     RADCURE-0006  87.3    Male  ECOG 2        25.0      Ex-smoker   \n",
              "2     RADCURE-0007  49.9    Male  ECOG 1        15.0      Ex-smoker   \n",
              "3     RADCURE-0009  72.3    Male  ECOG 1        30.0      Ex-smoker   \n",
              "4     RADCURE-0010  59.7  Female  ECOG 0         0.0     Non-smoker   \n",
              "...            ...   ...     ...     ...         ...            ...   \n",
              "3341  RADCURE-4126  58.3    Male  ECOG 0        50.0      Ex-smoker   \n",
              "3342  RADCURE-4127  52.4  Female  ECOG 0        30.0        Current   \n",
              "3343  RADCURE-4128  71.3    Male  ECOG 1        50.0      Ex-smoker   \n",
              "3344  RADCURE-4129  53.9  Female  ECOG 0         5.0        Current   \n",
              "3345  RADCURE-4130  85.5    Male  ECOG 2        15.0      Ex-smoker   \n",
              "\n",
              "         Ds Site          Subsite    T    N  ... Tx Modality Chemo?   Dose  \\\n",
              "0     Oropharynx        post wall  T4b  N2c  ...    RT alone    none  60.0   \n",
              "1         Larynx          Glottis  T1b   N0  ...    RT alone    none  51.0   \n",
              "2     Oropharynx           Tonsil   T3  N2b  ...    RT alone    none  64.0   \n",
              "3        Unknown              NaN   T0  N2c  ...    RT alone    none  70.0   \n",
              "4     Oropharynx  Tonsillar Fossa  T4b   N0  ...    RT alone    none  64.0   \n",
              "...          ...              ...  ...  ...  ...         ...     ...   ...   \n",
              "3341  Oropharynx    Tonsil Pillar   T2   N0  ...    RT alone    none  70.0   \n",
              "3342  Oropharynx   Base of Tongue   T2  N2b  ...     ChemoRT     Yes  70.0   \n",
              "3343  Oropharynx      Soft Palate   T2   N0  ...    RT alone    none  70.0   \n",
              "3344  Oropharynx  Tonsillar Fossa   T2  N2b  ...     ChemoRT     Yes  70.0   \n",
              "3345        Skin             Nose   T2   N0  ...    RT alone    none  70.0   \n",
              "\n",
              "      Fx Outcome Length FU  Cause of Death  Local Regional  Distant  \n",
              "0     25    Dead  1.317808     Other Cause     No       No       No  \n",
              "1     20    Dead  1.520548     Other Cause     No       No       No  \n",
              "2     40   Alive  2.126027             NaN     No       No       No  \n",
              "3     35   Alive  5.791781             NaN     No       No       No  \n",
              "4     40   Alive  9.512329             NaN     No       No       No  \n",
              "...   ..     ...       ...             ...    ...      ...      ...  \n",
              "3341  35    Dead  8.189041    Other Cancer     No       No       No  \n",
              "3342  35   Alive  5.739726             NaN     No       No       No  \n",
              "3343  35   Alive  5.824658             NaN     No       No       No  \n",
              "3344  35    Dead  0.912329     Other Cause    Yes       No       No  \n",
              "3345  35    Dead  1.523288     Other Cause     No       No       No  \n",
              "\n",
              "[3346 rows x 24 columns]>"
            ],
            "text/html": [
              "<div style=\"max-width:800px; border: 1px solid var(--colab-border-color);\"><style>\n",
              "      pre.function-repr-contents {\n",
              "        overflow-x: auto;\n",
              "        padding: 8px 12px;\n",
              "        max-height: 500px;\n",
              "      }\n",
              "\n",
              "      pre.function-repr-contents.function-repr-contents-collapsed {\n",
              "        cursor: pointer;\n",
              "        max-height: 100px;\n",
              "      }\n",
              "    </style>\n",
              "    <pre style=\"white-space: initial; background:\n",
              "         var(--colab-secondary-surface-color); padding: 8px 12px;\n",
              "         border-bottom: 1px solid var(--colab-border-color);\"><b>pandas.core.frame.DataFrame.drop_duplicates</b><br/>def drop_duplicates(subset: Hashable | Sequence[Hashable] | None=None, *, keep: DropKeep=&#x27;first&#x27;, inplace: bool=False, ignore_index: bool=False) -&gt; DataFrame | None</pre><pre class=\"function-repr-contents function-repr-contents-collapsed\" style=\"\"><a class=\"filepath\" style=\"display:none\" href=\"#\">/usr/local/lib/python3.10/dist-packages/pandas/core/frame.py</a>Return DataFrame with duplicate rows removed.\n",
              "\n",
              "Considering certain columns is optional. Indexes, including time indexes\n",
              "are ignored.\n",
              "\n",
              "Parameters\n",
              "----------\n",
              "subset : column label or sequence of labels, optional\n",
              "    Only consider certain columns for identifying duplicates, by\n",
              "    default use all of the columns.\n",
              "keep : {&#x27;first&#x27;, &#x27;last&#x27;, ``False``}, default &#x27;first&#x27;\n",
              "    Determines which duplicates (if any) to keep.\n",
              "\n",
              "    - &#x27;first&#x27; : Drop duplicates except for the first occurrence.\n",
              "    - &#x27;last&#x27; : Drop duplicates except for the last occurrence.\n",
              "    - ``False`` : Drop all duplicates.\n",
              "\n",
              "inplace : bool, default ``False``\n",
              "    Whether to modify the DataFrame rather than creating a new one.\n",
              "ignore_index : bool, default ``False``\n",
              "    If ``True``, the resulting axis will be labeled 0, 1, …, n - 1.\n",
              "\n",
              "Returns\n",
              "-------\n",
              "DataFrame or None\n",
              "    DataFrame with duplicates removed or None if ``inplace=True``.\n",
              "\n",
              "See Also\n",
              "--------\n",
              "DataFrame.value_counts: Count unique combinations of columns.\n",
              "\n",
              "Examples\n",
              "--------\n",
              "Consider dataset containing ramen rating.\n",
              "\n",
              "&gt;&gt;&gt; df = pd.DataFrame({\n",
              "...     &#x27;brand&#x27;: [&#x27;Yum Yum&#x27;, &#x27;Yum Yum&#x27;, &#x27;Indomie&#x27;, &#x27;Indomie&#x27;, &#x27;Indomie&#x27;],\n",
              "...     &#x27;style&#x27;: [&#x27;cup&#x27;, &#x27;cup&#x27;, &#x27;cup&#x27;, &#x27;pack&#x27;, &#x27;pack&#x27;],\n",
              "...     &#x27;rating&#x27;: [4, 4, 3.5, 15, 5]\n",
              "... })\n",
              "&gt;&gt;&gt; df\n",
              "    brand style  rating\n",
              "0  Yum Yum   cup     4.0\n",
              "1  Yum Yum   cup     4.0\n",
              "2  Indomie   cup     3.5\n",
              "3  Indomie  pack    15.0\n",
              "4  Indomie  pack     5.0\n",
              "\n",
              "By default, it removes duplicate rows based on all columns.\n",
              "\n",
              "&gt;&gt;&gt; df.drop_duplicates()\n",
              "    brand style  rating\n",
              "0  Yum Yum   cup     4.0\n",
              "2  Indomie   cup     3.5\n",
              "3  Indomie  pack    15.0\n",
              "4  Indomie  pack     5.0\n",
              "\n",
              "To remove duplicates on specific column(s), use ``subset``.\n",
              "\n",
              "&gt;&gt;&gt; df.drop_duplicates(subset=[&#x27;brand&#x27;])\n",
              "    brand style  rating\n",
              "0  Yum Yum   cup     4.0\n",
              "2  Indomie   cup     3.5\n",
              "\n",
              "To remove duplicates and keep last occurrences, use ``keep``.\n",
              "\n",
              "&gt;&gt;&gt; df.drop_duplicates(subset=[&#x27;brand&#x27;, &#x27;style&#x27;], keep=&#x27;last&#x27;)\n",
              "    brand style  rating\n",
              "1  Yum Yum   cup     4.0\n",
              "2  Indomie   cup     3.5\n",
              "4  Indomie  pack     5.0</pre>\n",
              "      <script>\n",
              "      if (google.colab.kernel.accessAllowed && google.colab.files && google.colab.files.view) {\n",
              "        for (const element of document.querySelectorAll('.filepath')) {\n",
              "          element.style.display = 'block'\n",
              "          element.onclick = (event) => {\n",
              "            event.preventDefault();\n",
              "            event.stopPropagation();\n",
              "            google.colab.files.view(element.textContent, 6435);\n",
              "          };\n",
              "        }\n",
              "      }\n",
              "      for (const element of document.querySelectorAll('.function-repr-contents')) {\n",
              "        element.onclick = (event) => {\n",
              "          event.preventDefault();\n",
              "          event.stopPropagation();\n",
              "          element.classList.toggle('function-repr-contents-collapsed');\n",
              "        };\n",
              "      }\n",
              "      </script>\n",
              "      </div>"
            ]
          },
          "metadata": {},
          "execution_count": 20
        }
      ],
      "source": [
        "oc.drop_duplicates"
      ]
    },
    {
      "cell_type": "code",
      "execution_count": 21,
      "metadata": {
        "colab": {
          "base_uri": "https://localhost:8080/"
        },
        "id": "8Z9snTQXR4RP",
        "outputId": "df327ee2-0434-413a-a722-a45ef464448f"
      },
      "outputs": [
        {
          "output_type": "stream",
          "name": "stdout",
          "text": [
            "Index(['patient_id', 'Age', 'Sex', 'ECOG PS', 'Smoking PY', 'Smoking Status',\n",
            "       'Ds Site', 'Subsite', 'T', 'N', 'M ', 'Stage', 'Path', 'HPV',\n",
            "       'Tx Modality', 'Chemo? ', 'Dose', 'Fx', 'Outcome', 'Length FU',\n",
            "       'Cause of Death', 'Local', 'Regional', 'Distant'],\n",
            "      dtype='object')\n"
          ]
        }
      ],
      "source": [
        "column_name = oc.columns\n",
        "print (oc.columns)"
      ]
    },
    {
      "cell_type": "code",
      "execution_count": 22,
      "metadata": {
        "colab": {
          "base_uri": "https://localhost:8080/"
        },
        "id": "QuBnmoSfVC6o",
        "outputId": "a90847d8-ff77-445f-bd3e-79ab9edbf5f7"
      },
      "outputs": [
        {
          "output_type": "stream",
          "name": "stdout",
          "text": [
            "<class 'pandas.core.frame.DataFrame'>\n",
            "RangeIndex: 3346 entries, 0 to 3345\n",
            "Data columns (total 24 columns):\n",
            " #   Column          Non-Null Count  Dtype  \n",
            "---  ------          --------------  -----  \n",
            " 0   patient_id      3346 non-null   object \n",
            " 1   Age             3346 non-null   float64\n",
            " 2   Sex             3346 non-null   object \n",
            " 3   ECOG PS         3345 non-null   object \n",
            " 4   Smoking PY      3296 non-null   float64\n",
            " 5   Smoking Status  3346 non-null   object \n",
            " 6   Ds Site         3346 non-null   object \n",
            " 7   Subsite         2972 non-null   object \n",
            " 8   T               3334 non-null   object \n",
            " 9   N               3333 non-null   object \n",
            " 10  M               3332 non-null   object \n",
            " 11  Stage           3319 non-null   object \n",
            " 12  Path            3346 non-null   object \n",
            " 13  HPV             1717 non-null   object \n",
            " 14  Tx Modality     3346 non-null   object \n",
            " 15  Chemo?          3346 non-null   object \n",
            " 16  Dose            3346 non-null   float64\n",
            " 17  Fx              3346 non-null   int64  \n",
            " 18  Outcome         3346 non-null   object \n",
            " 19  Length FU       3346 non-null   float64\n",
            " 20  Cause of Death  1052 non-null   object \n",
            " 21  Local           3346 non-null   object \n",
            " 22  Regional        3007 non-null   object \n",
            " 23  Distant         3346 non-null   object \n",
            "dtypes: float64(4), int64(1), object(19)\n",
            "memory usage: 627.5+ KB\n"
          ]
        }
      ],
      "source": [
        "oc.info()"
      ]
    },
    {
      "cell_type": "code",
      "execution_count": 23,
      "metadata": {
        "colab": {
          "base_uri": "https://localhost:8080/",
          "height": 300
        },
        "id": "rwFT526cVaO4",
        "outputId": "1b973ec4-204e-4362-a32d-c47d0acbc27e"
      },
      "outputs": [
        {
          "output_type": "execute_result",
          "data": {
            "text/plain": [
              "               Age   Smoking PY         Dose           Fx    Length FU\n",
              "count  3346.000000  3296.000000  3346.000000  3346.000000  3346.000000\n",
              "mean     62.300418    24.967567    66.658240    33.024806     4.136047\n",
              "std      11.645892    24.219463     5.754948     5.206841     2.734757\n",
              "min      15.600000     0.000000    50.000000    20.000000     0.156164\n",
              "25%      54.500000     0.000000    64.000000    35.000000     1.879452\n",
              "50%      62.100000    20.000000    70.000000    35.000000     3.663014\n",
              "75%      70.300000    40.000000    70.000000    35.000000     5.791781\n",
              "max      90.000000   240.000000    74.000000    60.000000    12.909589"
            ],
            "text/html": [
              "\n",
              "  <div id=\"df-7c02b597-0fd4-4b9f-9501-5448c8433835\" class=\"colab-df-container\">\n",
              "    <div>\n",
              "<style scoped>\n",
              "    .dataframe tbody tr th:only-of-type {\n",
              "        vertical-align: middle;\n",
              "    }\n",
              "\n",
              "    .dataframe tbody tr th {\n",
              "        vertical-align: top;\n",
              "    }\n",
              "\n",
              "    .dataframe thead th {\n",
              "        text-align: right;\n",
              "    }\n",
              "</style>\n",
              "<table border=\"1\" class=\"dataframe\">\n",
              "  <thead>\n",
              "    <tr style=\"text-align: right;\">\n",
              "      <th></th>\n",
              "      <th>Age</th>\n",
              "      <th>Smoking PY</th>\n",
              "      <th>Dose</th>\n",
              "      <th>Fx</th>\n",
              "      <th>Length FU</th>\n",
              "    </tr>\n",
              "  </thead>\n",
              "  <tbody>\n",
              "    <tr>\n",
              "      <th>count</th>\n",
              "      <td>3346.000000</td>\n",
              "      <td>3296.000000</td>\n",
              "      <td>3346.000000</td>\n",
              "      <td>3346.000000</td>\n",
              "      <td>3346.000000</td>\n",
              "    </tr>\n",
              "    <tr>\n",
              "      <th>mean</th>\n",
              "      <td>62.300418</td>\n",
              "      <td>24.967567</td>\n",
              "      <td>66.658240</td>\n",
              "      <td>33.024806</td>\n",
              "      <td>4.136047</td>\n",
              "    </tr>\n",
              "    <tr>\n",
              "      <th>std</th>\n",
              "      <td>11.645892</td>\n",
              "      <td>24.219463</td>\n",
              "      <td>5.754948</td>\n",
              "      <td>5.206841</td>\n",
              "      <td>2.734757</td>\n",
              "    </tr>\n",
              "    <tr>\n",
              "      <th>min</th>\n",
              "      <td>15.600000</td>\n",
              "      <td>0.000000</td>\n",
              "      <td>50.000000</td>\n",
              "      <td>20.000000</td>\n",
              "      <td>0.156164</td>\n",
              "    </tr>\n",
              "    <tr>\n",
              "      <th>25%</th>\n",
              "      <td>54.500000</td>\n",
              "      <td>0.000000</td>\n",
              "      <td>64.000000</td>\n",
              "      <td>35.000000</td>\n",
              "      <td>1.879452</td>\n",
              "    </tr>\n",
              "    <tr>\n",
              "      <th>50%</th>\n",
              "      <td>62.100000</td>\n",
              "      <td>20.000000</td>\n",
              "      <td>70.000000</td>\n",
              "      <td>35.000000</td>\n",
              "      <td>3.663014</td>\n",
              "    </tr>\n",
              "    <tr>\n",
              "      <th>75%</th>\n",
              "      <td>70.300000</td>\n",
              "      <td>40.000000</td>\n",
              "      <td>70.000000</td>\n",
              "      <td>35.000000</td>\n",
              "      <td>5.791781</td>\n",
              "    </tr>\n",
              "    <tr>\n",
              "      <th>max</th>\n",
              "      <td>90.000000</td>\n",
              "      <td>240.000000</td>\n",
              "      <td>74.000000</td>\n",
              "      <td>60.000000</td>\n",
              "      <td>12.909589</td>\n",
              "    </tr>\n",
              "  </tbody>\n",
              "</table>\n",
              "</div>\n",
              "    <div class=\"colab-df-buttons\">\n",
              "\n",
              "  <div class=\"colab-df-container\">\n",
              "    <button class=\"colab-df-convert\" onclick=\"convertToInteractive('df-7c02b597-0fd4-4b9f-9501-5448c8433835')\"\n",
              "            title=\"Convert this dataframe to an interactive table.\"\n",
              "            style=\"display:none;\">\n",
              "\n",
              "  <svg xmlns=\"http://www.w3.org/2000/svg\" height=\"24px\" viewBox=\"0 -960 960 960\">\n",
              "    <path d=\"M120-120v-720h720v720H120Zm60-500h600v-160H180v160Zm220 220h160v-160H400v160Zm0 220h160v-160H400v160ZM180-400h160v-160H180v160Zm440 0h160v-160H620v160ZM180-180h160v-160H180v160Zm440 0h160v-160H620v160Z\"/>\n",
              "  </svg>\n",
              "    </button>\n",
              "\n",
              "  <style>\n",
              "    .colab-df-container {\n",
              "      display:flex;\n",
              "      gap: 12px;\n",
              "    }\n",
              "\n",
              "    .colab-df-convert {\n",
              "      background-color: #E8F0FE;\n",
              "      border: none;\n",
              "      border-radius: 50%;\n",
              "      cursor: pointer;\n",
              "      display: none;\n",
              "      fill: #1967D2;\n",
              "      height: 32px;\n",
              "      padding: 0 0 0 0;\n",
              "      width: 32px;\n",
              "    }\n",
              "\n",
              "    .colab-df-convert:hover {\n",
              "      background-color: #E2EBFA;\n",
              "      box-shadow: 0px 1px 2px rgba(60, 64, 67, 0.3), 0px 1px 3px 1px rgba(60, 64, 67, 0.15);\n",
              "      fill: #174EA6;\n",
              "    }\n",
              "\n",
              "    .colab-df-buttons div {\n",
              "      margin-bottom: 4px;\n",
              "    }\n",
              "\n",
              "    [theme=dark] .colab-df-convert {\n",
              "      background-color: #3B4455;\n",
              "      fill: #D2E3FC;\n",
              "    }\n",
              "\n",
              "    [theme=dark] .colab-df-convert:hover {\n",
              "      background-color: #434B5C;\n",
              "      box-shadow: 0px 1px 3px 1px rgba(0, 0, 0, 0.15);\n",
              "      filter: drop-shadow(0px 1px 2px rgba(0, 0, 0, 0.3));\n",
              "      fill: #FFFFFF;\n",
              "    }\n",
              "  </style>\n",
              "\n",
              "    <script>\n",
              "      const buttonEl =\n",
              "        document.querySelector('#df-7c02b597-0fd4-4b9f-9501-5448c8433835 button.colab-df-convert');\n",
              "      buttonEl.style.display =\n",
              "        google.colab.kernel.accessAllowed ? 'block' : 'none';\n",
              "\n",
              "      async function convertToInteractive(key) {\n",
              "        const element = document.querySelector('#df-7c02b597-0fd4-4b9f-9501-5448c8433835');\n",
              "        const dataTable =\n",
              "          await google.colab.kernel.invokeFunction('convertToInteractive',\n",
              "                                                    [key], {});\n",
              "        if (!dataTable) return;\n",
              "\n",
              "        const docLinkHtml = 'Like what you see? Visit the ' +\n",
              "          '<a target=\"_blank\" href=https://colab.research.google.com/notebooks/data_table.ipynb>data table notebook</a>'\n",
              "          + ' to learn more about interactive tables.';\n",
              "        element.innerHTML = '';\n",
              "        dataTable['output_type'] = 'display_data';\n",
              "        await google.colab.output.renderOutput(dataTable, element);\n",
              "        const docLink = document.createElement('div');\n",
              "        docLink.innerHTML = docLinkHtml;\n",
              "        element.appendChild(docLink);\n",
              "      }\n",
              "    </script>\n",
              "  </div>\n",
              "\n",
              "\n",
              "<div id=\"df-f34d4de9-f1d4-4ede-bd7f-f935618a4949\">\n",
              "  <button class=\"colab-df-quickchart\" onclick=\"quickchart('df-f34d4de9-f1d4-4ede-bd7f-f935618a4949')\"\n",
              "            title=\"Suggest charts\"\n",
              "            style=\"display:none;\">\n",
              "\n",
              "<svg xmlns=\"http://www.w3.org/2000/svg\" height=\"24px\"viewBox=\"0 0 24 24\"\n",
              "     width=\"24px\">\n",
              "    <g>\n",
              "        <path d=\"M19 3H5c-1.1 0-2 .9-2 2v14c0 1.1.9 2 2 2h14c1.1 0 2-.9 2-2V5c0-1.1-.9-2-2-2zM9 17H7v-7h2v7zm4 0h-2V7h2v10zm4 0h-2v-4h2v4z\"/>\n",
              "    </g>\n",
              "</svg>\n",
              "  </button>\n",
              "\n",
              "<style>\n",
              "  .colab-df-quickchart {\n",
              "      --bg-color: #E8F0FE;\n",
              "      --fill-color: #1967D2;\n",
              "      --hover-bg-color: #E2EBFA;\n",
              "      --hover-fill-color: #174EA6;\n",
              "      --disabled-fill-color: #AAA;\n",
              "      --disabled-bg-color: #DDD;\n",
              "  }\n",
              "\n",
              "  [theme=dark] .colab-df-quickchart {\n",
              "      --bg-color: #3B4455;\n",
              "      --fill-color: #D2E3FC;\n",
              "      --hover-bg-color: #434B5C;\n",
              "      --hover-fill-color: #FFFFFF;\n",
              "      --disabled-bg-color: #3B4455;\n",
              "      --disabled-fill-color: #666;\n",
              "  }\n",
              "\n",
              "  .colab-df-quickchart {\n",
              "    background-color: var(--bg-color);\n",
              "    border: none;\n",
              "    border-radius: 50%;\n",
              "    cursor: pointer;\n",
              "    display: none;\n",
              "    fill: var(--fill-color);\n",
              "    height: 32px;\n",
              "    padding: 0;\n",
              "    width: 32px;\n",
              "  }\n",
              "\n",
              "  .colab-df-quickchart:hover {\n",
              "    background-color: var(--hover-bg-color);\n",
              "    box-shadow: 0 1px 2px rgba(60, 64, 67, 0.3), 0 1px 3px 1px rgba(60, 64, 67, 0.15);\n",
              "    fill: var(--button-hover-fill-color);\n",
              "  }\n",
              "\n",
              "  .colab-df-quickchart-complete:disabled,\n",
              "  .colab-df-quickchart-complete:disabled:hover {\n",
              "    background-color: var(--disabled-bg-color);\n",
              "    fill: var(--disabled-fill-color);\n",
              "    box-shadow: none;\n",
              "  }\n",
              "\n",
              "  .colab-df-spinner {\n",
              "    border: 2px solid var(--fill-color);\n",
              "    border-color: transparent;\n",
              "    border-bottom-color: var(--fill-color);\n",
              "    animation:\n",
              "      spin 1s steps(1) infinite;\n",
              "  }\n",
              "\n",
              "  @keyframes spin {\n",
              "    0% {\n",
              "      border-color: transparent;\n",
              "      border-bottom-color: var(--fill-color);\n",
              "      border-left-color: var(--fill-color);\n",
              "    }\n",
              "    20% {\n",
              "      border-color: transparent;\n",
              "      border-left-color: var(--fill-color);\n",
              "      border-top-color: var(--fill-color);\n",
              "    }\n",
              "    30% {\n",
              "      border-color: transparent;\n",
              "      border-left-color: var(--fill-color);\n",
              "      border-top-color: var(--fill-color);\n",
              "      border-right-color: var(--fill-color);\n",
              "    }\n",
              "    40% {\n",
              "      border-color: transparent;\n",
              "      border-right-color: var(--fill-color);\n",
              "      border-top-color: var(--fill-color);\n",
              "    }\n",
              "    60% {\n",
              "      border-color: transparent;\n",
              "      border-right-color: var(--fill-color);\n",
              "    }\n",
              "    80% {\n",
              "      border-color: transparent;\n",
              "      border-right-color: var(--fill-color);\n",
              "      border-bottom-color: var(--fill-color);\n",
              "    }\n",
              "    90% {\n",
              "      border-color: transparent;\n",
              "      border-bottom-color: var(--fill-color);\n",
              "    }\n",
              "  }\n",
              "</style>\n",
              "\n",
              "  <script>\n",
              "    async function quickchart(key) {\n",
              "      const quickchartButtonEl =\n",
              "        document.querySelector('#' + key + ' button');\n",
              "      quickchartButtonEl.disabled = true;  // To prevent multiple clicks.\n",
              "      quickchartButtonEl.classList.add('colab-df-spinner');\n",
              "      try {\n",
              "        const charts = await google.colab.kernel.invokeFunction(\n",
              "            'suggestCharts', [key], {});\n",
              "      } catch (error) {\n",
              "        console.error('Error during call to suggestCharts:', error);\n",
              "      }\n",
              "      quickchartButtonEl.classList.remove('colab-df-spinner');\n",
              "      quickchartButtonEl.classList.add('colab-df-quickchart-complete');\n",
              "    }\n",
              "    (() => {\n",
              "      let quickchartButtonEl =\n",
              "        document.querySelector('#df-f34d4de9-f1d4-4ede-bd7f-f935618a4949 button');\n",
              "      quickchartButtonEl.style.display =\n",
              "        google.colab.kernel.accessAllowed ? 'block' : 'none';\n",
              "    })();\n",
              "  </script>\n",
              "</div>\n",
              "\n",
              "    </div>\n",
              "  </div>\n"
            ],
            "application/vnd.google.colaboratory.intrinsic+json": {
              "type": "dataframe",
              "summary": "{\n  \"name\": \"oc\",\n  \"rows\": 8,\n  \"fields\": [\n    {\n      \"column\": \"Age\",\n      \"properties\": {\n        \"dtype\": \"number\",\n        \"std\": 1164.784644571404,\n        \"min\": 11.645892408454804,\n        \"max\": 3346.0,\n        \"num_unique_values\": 8,\n        \"samples\": [\n          62.30041841004184,\n          62.1,\n          3346.0\n        ],\n        \"semantic_type\": \"\",\n        \"description\": \"\"\n      }\n    },\n    {\n      \"column\": \"Smoking PY\",\n      \"properties\": {\n        \"dtype\": \"number\",\n        \"std\": 1150.372759560855,\n        \"min\": 0.0,\n        \"max\": 3296.0,\n        \"num_unique_values\": 7,\n        \"samples\": [\n          3296.0,\n          24.967566747572818,\n          40.0\n        ],\n        \"semantic_type\": \"\",\n        \"description\": \"\"\n      }\n    },\n    {\n      \"column\": \"Dose\",\n      \"properties\": {\n        \"dtype\": \"number\",\n        \"std\": 1162.977273360458,\n        \"min\": 5.7549482843364395,\n        \"max\": 3346.0,\n        \"num_unique_values\": 7,\n        \"samples\": [\n          3346.0,\n          66.65823968918112,\n          70.0\n        ],\n        \"semantic_type\": \"\",\n        \"description\": \"\"\n      }\n    },\n    {\n      \"column\": \"Fx\",\n      \"properties\": {\n        \"dtype\": \"number\",\n        \"std\": 1171.8167781258544,\n        \"min\": 5.206840996329277,\n        \"max\": 3346.0,\n        \"num_unique_values\": 6,\n        \"samples\": [\n          3346.0,\n          33.02480573819486,\n          60.0\n        ],\n        \"semantic_type\": \"\",\n        \"description\": \"\"\n      }\n    },\n    {\n      \"column\": \"Length FU\",\n      \"properties\": {\n        \"dtype\": \"number\",\n        \"std\": 1181.4164018379206,\n        \"min\": 0.156164384,\n        \"max\": 3346.0,\n        \"num_unique_values\": 8,\n        \"samples\": [\n          4.136047130505379,\n          3.663013699,\n          3346.0\n        ],\n        \"semantic_type\": \"\",\n        \"description\": \"\"\n      }\n    }\n  ]\n}"
            }
          },
          "metadata": {},
          "execution_count": 23
        }
      ],
      "source": [
        "oc.describe()"
      ]
    },
    {
      "cell_type": "code",
      "execution_count": 24,
      "metadata": {
        "colab": {
          "base_uri": "https://localhost:8080/"
        },
        "id": "dxkYYPIoVlX5",
        "outputId": "af557155-856a-47fd-f060-944b5d1f732a"
      },
      "outputs": [
        {
          "output_type": "stream",
          "name": "stdout",
          "text": [
            "Cause of Death\n",
            "Index Cancer                506\n",
            "Other Cause                 308\n",
            "Other Cancer                162\n",
            "Unknown                      60\n",
            "Other cause - Tx related     13\n",
            "Index Ca-On Tx                2\n",
            "Index Ca-Sx complication      1\n",
            "Name: count, dtype: int64\n"
          ]
        }
      ],
      "source": [
        "cause_death_counts = oc['Cause of Death'].value_counts()\n",
        "print (cause_death_counts)"
      ]
    },
    {
      "cell_type": "code",
      "execution_count": 25,
      "metadata": {
        "colab": {
          "base_uri": "https://localhost:8080/"
        },
        "id": "JVrSFwY_Xr03",
        "outputId": "63488625-6e4c-440e-c86f-e7b752d11e5a"
      },
      "outputs": [
        {
          "output_type": "stream",
          "name": "stdout",
          "text": [
            "Outcome\n",
            "Alive    2288\n",
            "Dead     1058\n",
            "Name: count, dtype: int64\n"
          ]
        }
      ],
      "source": [
        "outcome_counts = oc['Outcome'].value_counts()\n",
        "print(outcome_counts)"
      ]
    },
    {
      "cell_type": "code",
      "execution_count": 26,
      "metadata": {
        "colab": {
          "base_uri": "https://localhost:8080/"
        },
        "id": "CrOcDgwMYNrt",
        "outputId": "93a4dd13-8272-416c-f4d9-d4fcfaef4562"
      },
      "outputs": [
        {
          "output_type": "stream",
          "name": "stdout",
          "text": [
            "['Age', 'Smoking PY', 'Dose', 'Fx', 'Length FU']\n",
            "['patient_id', 'Sex', 'ECOG PS', 'Smoking Status', 'Ds Site', 'Subsite', 'T', 'N', 'M ', 'Stage', 'Path', 'HPV', 'Tx Modality', 'Chemo? ', 'Outcome', 'Cause of Death', 'Local', 'Regional', 'Distant']\n"
          ]
        }
      ],
      "source": [
        "num_ftrs = oc.select_dtypes(include=['int64', 'float64']).columns.tolist()\n",
        "cat_ftrs = oc.select_dtypes(include=['object', 'category']).columns.tolist()\n",
        "print(num_ftrs)\n",
        "print(cat_ftrs)"
      ]
    },
    {
      "cell_type": "code",
      "execution_count": 27,
      "metadata": {
        "colab": {
          "base_uri": "https://localhost:8080/"
        },
        "id": "xZ7BYGBdcL4W",
        "outputId": "3ff69323-101c-40fc-edb5-52625d0c2d79"
      },
      "outputs": [
        {
          "output_type": "stream",
          "name": "stdout",
          "text": [
            "        patient_id     Sex ECOG PS Smoking Status     Ds Site  \\\n",
            "0     RADCURE-0005  Female  ECOG 0      Ex-smoker  Oropharynx   \n",
            "1     RADCURE-0006    Male  ECOG 2      Ex-smoker      Larynx   \n",
            "2     RADCURE-0007    Male  ECOG 1      Ex-smoker  Oropharynx   \n",
            "3     RADCURE-0009    Male  ECOG 1      Ex-smoker     Unknown   \n",
            "4     RADCURE-0010  Female  ECOG 0     Non-smoker  Oropharynx   \n",
            "...            ...     ...     ...            ...         ...   \n",
            "3341  RADCURE-4126    Male  ECOG 0      Ex-smoker  Oropharynx   \n",
            "3342  RADCURE-4127  Female  ECOG 0        Current  Oropharynx   \n",
            "3343  RADCURE-4128    Male  ECOG 1      Ex-smoker  Oropharynx   \n",
            "3344  RADCURE-4129  Female  ECOG 0        Current  Oropharynx   \n",
            "3345  RADCURE-4130    Male  ECOG 2      Ex-smoker        Skin   \n",
            "\n",
            "              Subsite    T    N  M  Stage                     Path  \\\n",
            "0           post wall  T4b  N2c  M0   IVB  Squamous Cell Carcinoma   \n",
            "1             Glottis  T1b   N0  M0     I  Squamous Cell Carcinoma   \n",
            "2              Tonsil   T3  N2b  M0   IVA  Squamous Cell Carcinoma   \n",
            "3                 NaN   T0  N2c  M0   IVA  Squamous Cell Carcinoma   \n",
            "4     Tonsillar Fossa  T4b   N0  M0   IVB  Squamous Cell Carcinoma   \n",
            "...               ...  ...  ...  ..   ...                      ...   \n",
            "3341    Tonsil Pillar   T2   N0  M0    II  Squamous Cell Carcinoma   \n",
            "3342   Base of Tongue   T2  N2b  M0   IVA  Squamous Cell Carcinoma   \n",
            "3343      Soft Palate   T2   N0  M0    II  Squamous Cell Carcinoma   \n",
            "3344  Tonsillar Fossa   T2  N2b  M0   IVA  Squamous Cell Carcinoma   \n",
            "3345             Nose   T2   N0  M0    II      Sebaceous carcinoma   \n",
            "\n",
            "                HPV Tx Modality Chemo?  Outcome Cause of Death Local Regional  \\\n",
            "0     Yes, Negative    RT alone    none    Dead    Other Cause    No       No   \n",
            "1               NaN    RT alone    none    Dead    Other Cause    No       No   \n",
            "2     Yes, positive    RT alone    none   Alive            NaN    No       No   \n",
            "3               NaN    RT alone    none   Alive            NaN    No       No   \n",
            "4     Yes, Negative    RT alone    none   Alive            NaN    No       No   \n",
            "...             ...         ...     ...     ...            ...   ...      ...   \n",
            "3341  Yes, positive    RT alone    none    Dead   Other Cancer    No       No   \n",
            "3342  Yes, positive     ChemoRT     Yes   Alive            NaN    No       No   \n",
            "3343            NaN    RT alone    none   Alive            NaN    No       No   \n",
            "3344  Yes, positive     ChemoRT     Yes    Dead    Other Cause   Yes       No   \n",
            "3345            NaN    RT alone    none    Dead    Other Cause    No       No   \n",
            "\n",
            "     Distant  \n",
            "0         No  \n",
            "1         No  \n",
            "2         No  \n",
            "3         No  \n",
            "4         No  \n",
            "...      ...  \n",
            "3341      No  \n",
            "3342      No  \n",
            "3343      No  \n",
            "3344      No  \n",
            "3345      No  \n",
            "\n",
            "[3346 rows x 19 columns]\n"
          ]
        }
      ],
      "source": [
        "num_data = oc[num_ftrs]\n",
        "cat_data = oc[cat_ftrs]\n",
        "print(cat_data)"
      ]
    },
    {
      "cell_type": "code",
      "execution_count": 28,
      "metadata": {
        "colab": {
          "base_uri": "https://localhost:8080/"
        },
        "id": "0alfwN4AisCT",
        "outputId": "5196263f-c6d0-4968-83ed-1da5cef1d900"
      },
      "outputs": [
        {
          "output_type": "stream",
          "name": "stdout",
          "text": [
            "            num_data\n",
            "Age                0\n",
            "Smoking PY        50\n",
            "Dose               0\n",
            "Fx                 0\n",
            "Length FU          0\n"
          ]
        }
      ],
      "source": [
        "NAs = pd.concat([num_data.isnull().sum()], axis=1, keys=[\"num_data\"])\n",
        "NAs[NAs.sum(axis=1)>0]\n",
        "print(NAs)"
      ]
    },
    {
      "cell_type": "code",
      "source": [
        "from sklearn import preprocessing\n",
        "from sklearn.tree import DecisionTreeRegressor\n",
        "from sklearn.linear_model import BayesianRidge\n",
        "from sklearn.experimental import enable_iterative_imputer\n",
        "from sklearn.impute import IterativeImputer\n",
        "from sklearn.ensemble import RandomForestRegressor\n",
        "imputer = IterativeImputer(estimator=RandomForestRegressor(n_estimators=50, n_jobs=-1), max_iter=10, tol=1e-3, verbose=2)\n",
        "imputed_data = imputer.fit_transform(num_data)\n",
        "imputed_num_data = pd.DataFrame(imputed_data, columns=num_data.columns)"
      ],
      "metadata": {
        "colab": {
          "base_uri": "https://localhost:8080/"
        },
        "id": "9M6R3U9eWhxn",
        "outputId": "e02362b4-b333-4438-94e1-169cdee92c56"
      },
      "execution_count": 29,
      "outputs": [
        {
          "output_type": "stream",
          "name": "stdout",
          "text": [
            "[IterativeImputer] Completing matrix with shape (3346, 5)\n",
            "[IterativeImputer] Ending imputation round 1/10, elapsed time 2.61\n",
            "[IterativeImputer] Change: 31.83243325242718, scaled tolerance: 0.24 \n",
            "[IterativeImputer] Ending imputation round 2/10, elapsed time 4.03\n",
            "[IterativeImputer] Change: 11.799999999999997, scaled tolerance: 0.24 \n",
            "[IterativeImputer] Ending imputation round 3/10, elapsed time 5.51\n",
            "[IterativeImputer] Change: 9.72, scaled tolerance: 0.24 \n",
            "[IterativeImputer] Ending imputation round 4/10, elapsed time 6.95\n",
            "[IterativeImputer] Change: 13.259999999999998, scaled tolerance: 0.24 \n",
            "[IterativeImputer] Ending imputation round 5/10, elapsed time 8.38\n",
            "[IterativeImputer] Change: 15.14, scaled tolerance: 0.24 \n",
            "[IterativeImputer] Ending imputation round 6/10, elapsed time 11.13\n",
            "[IterativeImputer] Change: 18.449999999999996, scaled tolerance: 0.24 \n",
            "[IterativeImputer] Ending imputation round 7/10, elapsed time 15.19\n",
            "[IterativeImputer] Change: 12.12, scaled tolerance: 0.24 \n",
            "[IterativeImputer] Ending imputation round 8/10, elapsed time 18.64\n",
            "[IterativeImputer] Change: 9.66, scaled tolerance: 0.24 \n",
            "[IterativeImputer] Ending imputation round 9/10, elapsed time 21.82\n",
            "[IterativeImputer] Change: 9.8, scaled tolerance: 0.24 \n",
            "[IterativeImputer] Ending imputation round 10/10, elapsed time 24.97\n",
            "[IterativeImputer] Change: 9.379999999999999, scaled tolerance: 0.24 \n"
          ]
        },
        {
          "output_type": "stream",
          "name": "stderr",
          "text": [
            "/usr/local/lib/python3.10/dist-packages/sklearn/impute/_iterative.py:785: ConvergenceWarning: [IterativeImputer] Early stopping criterion not reached.\n",
            "  warnings.warn(\n"
          ]
        }
      ]
    },
    {
      "cell_type": "code",
      "source": [
        "NAs = pd.concat([imputed_num_data.isnull().sum()], axis=1, keys=[\"num_data\"])\n",
        "NAs[NAs.sum(axis=1)>0]\n",
        "print(NAs)"
      ],
      "metadata": {
        "colab": {
          "base_uri": "https://localhost:8080/"
        },
        "id": "po2ib6VVXsVr",
        "outputId": "1778bb7c-4619-4a20-f2bd-34093b458b00"
      },
      "execution_count": 30,
      "outputs": [
        {
          "output_type": "stream",
          "name": "stdout",
          "text": [
            "            num_data\n",
            "Age                0\n",
            "Smoking PY         0\n",
            "Dose               0\n",
            "Fx                 0\n",
            "Length FU          0\n"
          ]
        }
      ]
    },
    {
      "cell_type": "code",
      "execution_count": null,
      "metadata": {
        "id": "WPQ4KEdDRBDe"
      },
      "outputs": [],
      "source": [
        "columns_to_encode = ['Sex', 'ECOG PS', 'Smoking Status', 'Ds Site', 'Subsite', 'T', 'N', 'M ', 'Stage', 'Path', 'HPV', 'Tx Modality', 'Chemo? ', 'Outcome', 'Cause of Death', 'Local', 'Regional', 'Distant']\n",
        "from sklearn.preprocessing import LabelEncoder\n",
        "for column in columns_to_encode:\n",
        "    le = LabelEncoder()\n",
        "    cat_data.loc[:, column] = le.fit_transform(cat_data[column].astype(str))\n",
        "print(cat_data)\n",
        "print(cat_data.head())"
      ]
    },
    {
      "cell_type": "code",
      "execution_count": null,
      "metadata": {
        "id": "7BGX-5tQQbKz"
      },
      "outputs": [],
      "source": [
        "cat_data.info"
      ]
    },
    {
      "cell_type": "code",
      "execution_count": null,
      "metadata": {
        "id": "oNAH3ILhLUzD"
      },
      "outputs": [],
      "source": [
        "merged_oc = pd.concat([imputed_num_data, cat_data], axis=1)\n",
        "merged_oc = merged_oc.drop(['Cause of Death', 'patient_id'], axis=1)\n",
        "corr_matrix0 = merged_oc.corr()\n",
        "print(corr_matrix0)"
      ]
    },
    {
      "cell_type": "code",
      "execution_count": null,
      "metadata": {
        "id": "NHWxIdfJKj9x"
      },
      "outputs": [],
      "source": [
        "print(num_data.index.equals(cat_data.index))\n",
        "overlap_cols = num_data.columns.intersection(cat_data.columns)\n",
        "print(\"Overlapping columns:\", overlap_cols)"
      ]
    },
    {
      "cell_type": "code",
      "execution_count": null,
      "metadata": {
        "id": "O1OD7rSIKHKX"
      },
      "outputs": [],
      "source": [
        "print (merged_oc.head())"
      ]
    },
    {
      "cell_type": "code",
      "execution_count": null,
      "metadata": {
        "id": "PedjkISrIbn6"
      },
      "outputs": [],
      "source": [
        "print('Outcome' in cat_data.columns)\n",
        "print ('Outcome' in merged_oc.columns)"
      ]
    },
    {
      "cell_type": "code",
      "execution_count": null,
      "metadata": {
        "id": "UttYYfH1HwZI"
      },
      "outputs": [],
      "source": [
        "import matplotlib.pyplot as plt\n",
        "import seaborn as sns\n",
        "plt.figure(figsize=(20,20))\n",
        "sns.heatmap(corr_matrix0, annot=True, cmap='coolwarm', linewidths=0.1, fmt=\".01f\")\n",
        "plt.title('Prediction of outcome in oral cancer')\n",
        "plt.show()"
      ]
    },
    {
      "cell_type": "code",
      "execution_count": 42,
      "metadata": {
        "colab": {
          "base_uri": "https://localhost:8080/"
        },
        "id": "VAI_wW3pi8R5",
        "outputId": "995a8240-024e-4b13-b4d9-1612ee74f0f2"
      },
      "outputs": [
        {
          "output_type": "stream",
          "name": "stdout",
          "text": [
            "Transformed y: [1 1 0 0 0]\n"
          ]
        }
      ],
      "source": [
        "X = merged_oc.drop('Outcome', axis=1)\n",
        "y = merged_oc['Outcome']\n",
        "from sklearn.preprocessing import LabelEncoder\n",
        "le = LabelEncoder()\n",
        "y = le.fit_transform(y)\n",
        "print(\"Transformed y:\", y[:5])"
      ]
    },
    {
      "cell_type": "code",
      "execution_count": 43,
      "metadata": {
        "id": "mgGUShK8joEe"
      },
      "outputs": [],
      "source": [
        "from sklearn.model_selection import train_test_split\n",
        "from sklearn.ensemble import RandomForestClassifier\n",
        "from sklearn.metrics import accuracy_score, classification_report"
      ]
    },
    {
      "cell_type": "code",
      "execution_count": 44,
      "metadata": {
        "colab": {
          "base_uri": "https://localhost:8080/"
        },
        "id": "rxSz9AHLj1Tv",
        "outputId": "c808d38c-02cd-4a88-9c69-9a82ef9f4729"
      },
      "outputs": [
        {
          "output_type": "stream",
          "name": "stdout",
          "text": [
            "Accuracy: 0.7940298507462686\n",
            "Classification Report:\n",
            "               precision    recall  f1-score   support\n",
            "\n",
            "           0       0.83      0.86      0.85       447\n",
            "           1       0.71      0.65      0.68       223\n",
            "\n",
            "    accuracy                           0.79       670\n",
            "   macro avg       0.77      0.76      0.76       670\n",
            "weighted avg       0.79      0.79      0.79       670\n",
            "\n"
          ]
        }
      ],
      "source": [
        "X_train, X_test, y_train, y_test = train_test_split(X, y, test_size=0.2, random_state=25)\n",
        "clf = RandomForestClassifier(random_state=25)\n",
        "clf.fit(X_train, y_train)\n",
        "y_pred = clf.predict(X_test)\n",
        "print(\"Accuracy:\", accuracy_score(y_test, y_pred))\n",
        "print(\"Classification Report:\\n\", classification_report(y_test, y_pred))"
      ]
    },
    {
      "cell_type": "code",
      "execution_count": 45,
      "metadata": {
        "id": "E92nn7HBi7WA",
        "colab": {
          "base_uri": "https://localhost:8080/"
        },
        "outputId": "d5a9cb63-408f-4cd9-c792-7fe89823b529"
      },
      "outputs": [
        {
          "output_type": "stream",
          "name": "stdout",
          "text": [
            "ROC-AUC Score: 0.8429791033396534\n",
            "Accuracy: 0.7940298507462686\n"
          ]
        }
      ],
      "source": [
        "from sklearn.metrics import roc_auc_score\n",
        "probabilities = clf.predict_proba(X_test)\n",
        "probs_alive = probabilities[:, 1]\n",
        "roc_auc = roc_auc_score(y_test, probs_alive)\n",
        "print(f\"ROC-AUC Score: {roc_auc}\")\n",
        "predictions = clf.predict(X_test)\n",
        "accuracy = accuracy_score(y_test, predictions)\n",
        "print(f\"Accuracy: {accuracy}\")"
      ]
    },
    {
      "cell_type": "code",
      "source": [
        "import joblib\n",
        "!pip3 install streamlit\n",
        "import streamlit as smlt\n",
        "import pickle\n",
        "from sklearn.ensemble import RandomForestRegressor\n",
        "import joblib\n",
        "joblib.dump(clf, 'random_forest_model.pkl')\n",
        "loaded_model = joblib.load('random_forest_model.pkl')\n",
        "model = RandomForestRegressor()\n",
        "model.fit(X_train, y_train)\n",
        "model_path = 'best_rf_model.pkl'\n",
        "joblib.dump(model, model_path)\n",
        "model_path = 'best_rf_model.pkl'\n",
        "model = joblib.load(model_path)\n",
        "smlt.title('Prognosis in Head & Neck squamous cell carcinomas')\n",
        "\n",
        "import streamlit as st\n",
        "\n",
        "# Title of the application\n",
        "st.title('Patient Data Input Form')\n",
        "\n",
        "# Creating form\n",
        "with st.form(key='patient_form'):\n",
        "    age = st.number_input('Age', min_value=0, max_value=120, value=30, step=1)\n",
        "    sex = st.radio('Sex', options=['Male', 'Female', 'Other'])\n",
        "    smoking_status = st.checkbox('Smoker')\n",
        "\n",
        "    # You can add inputs for other variables in a similar manner\n",
        "    subsite = st.selectbox('Subsite', options=['Subsite A', 'Subsite B', 'Subsite C'])\n",
        "    stage = st.slider('Stage', min_value=1, max_value=4, value=2)\n",
        "\n",
        "    # Every form must have a submit button.\n",
        "    submitted = st.form_submit_button('Submit')\n",
        "    if submitted:\n",
        "        st.write('Patient Data Submitted Successfully!')\n",
        "        st.write(f\"Age: {age}, Sex: {sex}, Smoking Status: {smoking_status}, Subsite: {subsite}, Stage: {stage}\")\n",
        "\n",
        "streamlit run OCapp.py\n",
        "\n",
        "\n",
        "\n",
        "# Predict button\n",
        "if st.button('Predict Probability of poor Overasll survival'):\n",
        "    prediction = model.predict(features)\n",
        "    st.write(f'The predicted probability of poor Overasll survival is: {prediction[0]}')\n",
        "\n"
      ],
      "metadata": {
        "colab": {
          "base_uri": "https://localhost:8080/",
          "height": 108
        },
        "id": "CkiOgzzeh-VI",
        "outputId": "1b9697d0-653d-420c-ee7c-9f091288bc6e"
      },
      "execution_count": 55,
      "outputs": [
        {
          "output_type": "error",
          "ename": "SyntaxError",
          "evalue": "invalid syntax (<ipython-input-55-0cda838a51c7>, line 38)",
          "traceback": [
            "\u001b[0;36m  File \u001b[0;32m\"<ipython-input-55-0cda838a51c7>\"\u001b[0;36m, line \u001b[0;32m38\u001b[0m\n\u001b[0;31m    streamlit run OCapp.py\u001b[0m\n\u001b[0m              ^\u001b[0m\n\u001b[0;31mSyntaxError\u001b[0m\u001b[0;31m:\u001b[0m invalid syntax\n"
          ]
        }
      ]
    }
  ],
  "metadata": {
    "colab": {
      "provenance": [],
      "mount_file_id": "1W9jdValPEbALvQWiWQXWm-spyFZSRHd0",
      "authorship_tag": "ABX9TyOue5IH/R1FeJJGduCBmGlp",
      "include_colab_link": true
    },
    "kernelspec": {
      "display_name": "Python 3",
      "name": "python3"
    },
    "language_info": {
      "name": "python"
    }
  },
  "nbformat": 4,
  "nbformat_minor": 0
}